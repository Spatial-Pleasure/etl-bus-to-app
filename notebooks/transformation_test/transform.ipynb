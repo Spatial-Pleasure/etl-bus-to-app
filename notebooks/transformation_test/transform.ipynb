{
 "cells": [
  {
   "cell_type": "code",
   "execution_count": 1,
   "id": "3db58134-1652-401d-bdb6-bf0b5aa2d550",
   "metadata": {},
   "outputs": [
    {
     "name": "stdout",
     "output_type": "stream",
     "text": [
      "Hi\n"
     ]
    }
   ],
   "source": [
    "import os\n",
    "from pathlib import Path\n",
    "import pandas as pd"
   ]
  },
  {
   "cell_type": "code",
   "execution_count": 2,
   "id": "6e609414",
   "metadata": {},
   "outputs": [
    {
     "name": "stdout",
     "output_type": "stream",
     "text": [
      "検索対象のパス: /app/data/raw/DataInput\n",
      "フォルダ: 202311\n",
      "フォルダ: 202312\n"
     ]
    }
   ],
   "source": [
    "import os\n",
    "from pathlib import Path\n",
    "\n",
    "# 現在のノートブックのディレクトリから一つ上の階層に移動し、そこからdataフォルダを指定\n",
    "current_dir = Path().absolute()\n",
    "project_root = current_dir.parent.parent  # notebooks階層から二つ上に移動\n",
    "data_path = project_root / 'data' / 'raw' / 'DataInput'\n",
    "\n",
    "print(f\"検索対象のパス: {data_path}\")\n",
    "\n",
    "# フォルダが存在するか確認\n",
    "if not data_path.exists():\n",
    "    print(f\"指定されたパスが見つかりません: {data_path}\")\n",
    "else:\n",
    "    # フォルダ内の内容を表示\n",
    "    for item in data_path.iterdir():\n",
    "        if item.is_file():\n",
    "            print(f'ファイル: {item.name}')\n",
    "        elif item.is_dir():\n",
    "            print(f'フォルダ: {item.name}')"
   ]
  },
  {
   "cell_type": "code",
   "execution_count": null,
   "id": "ed43c487",
   "metadata": {},
   "outputs": [],
   "source": [
    "\n",
    "# パスの設定\n",
    "current_dir = Path().absolute()\n",
    "project_root = current_dir.parent.parent\n",
    "target_path = project_root / 'data' / 'raw' / 'DataInput' / '202311'\n",
    "\n",
    "print(f\"検索対象のパス: {target_path}\")\n",
    "\n",
    "# フォルダ内のCSVファイルを処理\n",
    "if not target_path.exists():\n",
    "    print(f\"指定されたパスが見つかりません: {target_path}\")\n",
    "else:\n",
    "    # CSVファイルのみを取得\n",
    "    csv_files = [f for f in target_path.glob('*.csv')]\n",
    "    \n",
    "    if not csv_files:\n",
    "        print(\"CSVファイルが見つかりません\")\n",
    "    \n",
    "    # 各CSVファイルを読み込んで表示\n",
    "    for csv_file in csv_files:\n",
    "        print(f\"\\n{'='*50}\")\n",
    "        print(f\"ファイル名: {csv_file.name}\")\n",
    "        print(f\"{'='*50}\")\n",
    "        \n",
    "        try:\n",
    "            df = pd.read_csv(csv_file)\n",
    "            print(\"\\nデータの先頭50行:\")\n",
    "            display(df.head(50))\n",
    "            print(f\"\\nデータの形状: {df.shape}\")\n",
    "        except Exception as e:\n",
    "            print(f\"エラーが発生しました: {e}\")"
   ]
  }
 ],
 "metadata": {
  "kernelspec": {
   "display_name": "Python 3 (ipykernel)",
   "language": "python",
   "name": "python3"
  },
  "language_info": {
   "codemirror_mode": {
    "name": "ipython",
    "version": 3
   },
   "file_extension": ".py",
   "mimetype": "text/x-python",
   "name": "python",
   "nbconvert_exporter": "python",
   "pygments_lexer": "ipython3",
   "version": "3.9.20"
  }
 },
 "nbformat": 4,
 "nbformat_minor": 5
}
